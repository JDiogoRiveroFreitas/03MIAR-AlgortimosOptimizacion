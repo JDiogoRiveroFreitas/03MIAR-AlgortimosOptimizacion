{
  "cells": [
    {
      "cell_type": "markdown",
      "metadata": {
        "id": "UTAely5UYuL-"
      },
      "source": [
        "# Actividad Guiada 1\n",
        "## Algoritmos de Optimización, Máster en Inteligencia Artificial, VIU\n",
        "\n",
        "**José Diogo Rivero Freitas:**\n",
        "\n",
        "https://colab.research.google.com/drive/1_4_6BGkp98VXkPo59Ao0NgRtR6uMrpYg?usp=sharing\n",
        "\n",
        "https://github.com/JDiogoRiveroFreitas"
      ]
    },
    {
      "cell_type": "markdown",
      "metadata": {
        "id": "4fbeu2ezi5pH"
      },
      "source": [
        "### **Torres de Hanoi - Divide y venceras**"
      ]
    },
    {
      "cell_type": "code",
      "execution_count": 1,
      "metadata": {
        "colab": {
          "base_uri": "https://localhost:8080/"
        },
        "id": "ULQ-gTMzYiq-",
        "outputId": "d33d73f6-83ef-410a-ff9d-ed46d4723fed"
      },
      "outputs": [
        {
          "name": "stdout",
          "output_type": "stream",
          "text": [
            "Lleva la ficha desde 1 hasta 2\n",
            "Lleva la ficha desde 1 hasta 3\n",
            "Lleva la ficha desde 2 hasta 3\n",
            "Lleva la ficha desde 1 hasta 2\n",
            "Lleva la ficha desde 3 hasta 1\n",
            "Lleva la ficha desde 3 hasta 2\n",
            "Lleva la ficha desde 1 hasta 2\n",
            "Lleva la ficha desde 1 hasta 3\n",
            "Lleva la ficha desde 2 hasta 3\n",
            "Lleva la ficha desde 2 hasta 1\n",
            "Lleva la ficha desde 3 hasta 1\n",
            "Lleva la ficha desde 2 hasta 3\n",
            "Lleva la ficha desde 1 hasta 2\n",
            "Lleva la ficha desde 1 hasta 3\n",
            "Lleva la ficha desde 2 hasta 3\n"
          ]
        }
      ],
      "source": [
        "def Torres_Hanoi(N, desde, hasta):\n",
        "  '''  \n",
        "  N - Nº de fichas\n",
        "  desde - torre inicial\n",
        "  hasta - torre final\n",
        "  '''\n",
        "  \n",
        "  if N==1 :\n",
        "    print(\"Lleva la ficha desde \" + str(desde) + \" hasta \" + str(hasta))\n",
        "\n",
        "  else:\n",
        "    Torres_Hanoi(N-1, desde, 6-desde-hasta)\n",
        "    print(\"Lleva la ficha desde \" + str(desde) + \" hasta \" + str(hasta))\n",
        "    Torres_Hanoi(N-1, 6-desde-hasta,  hasta)\n",
        "\n",
        "Torres_Hanoi(4, 1, 3)"
      ]
    },
    {
      "cell_type": "markdown",
      "metadata": {
        "id": "AyaXOd5rjCNW"
      },
      "source": [
        "### Cambio de monedas - Técnica voraz"
      ]
    },
    {
      "cell_type": "code",
      "execution_count": 2,
      "metadata": {
        "colab": {
          "base_uri": "https://localhost:8080/"
        },
        "id": "JigZvC8PhyXY",
        "outputId": "f6a574ab-5967-4046-efd1-7beaa9e89f23"
      },
      "outputs": [
        {
          "data": {
            "text/plain": [
              "[1, 1, 0, 1, 1, 1]"
            ]
          },
          "execution_count": 2,
          "metadata": {},
          "output_type": "execute_result"
        }
      ],
      "source": [
        "#Cambio de monedas - Técnica voraz\n",
        "\n",
        "SISTEMA = [50, 20, 10, 5, 2, 1] #Valor de las monedas del sistema (€)\n",
        "\n",
        "def cambio_monedas(CANTIDAD,SISTEMA):\n",
        "  '''\n",
        "  CANTIDAD: valor a devolver\n",
        "  SISTEMA: valor de las monedas disponibles\n",
        "  '''\n",
        "  SOLUCION = [0] * len(SISTEMA)\n",
        "  ValorAcumulado = 0\n",
        "\n",
        "  for i, valor in enumerate(SISTEMA):\n",
        "    monedas = (CANTIDAD-ValorAcumulado) // valor\n",
        "    SOLUCION[i] = monedas\n",
        "    ValorAcumulado = ValorAcumulado + monedas*valor\n",
        "\n",
        "    if CANTIDAD == ValorAcumulado:\n",
        "      return SOLUCION\n",
        "\n",
        "  print(\"No es posible encontrar solucion\")\n",
        "\n",
        "cambio_monedas(78, SISTEMA)"
      ]
    },
    {
      "cell_type": "markdown",
      "metadata": {
        "id": "2Va6P5B0kpeH"
      },
      "source": [
        "### **N Reinas - Vuelta Atrás**"
      ]
    },
    {
      "cell_type": "code",
      "execution_count": 3,
      "metadata": {
        "colab": {
          "base_uri": "https://localhost:8080/"
        },
        "id": "-Vs-R-mfiwUQ",
        "outputId": "59cf833c-f1d6-463f-8933-e538c954b403"
      },
      "outputs": [
        {
          "name": "stdout",
          "output_type": "stream",
          "text": [
            "[1, 5, 8, 6, 3, 7, 2, 4]\n",
            "[1, 6, 8, 3, 7, 4, 2, 5]\n",
            "[1, 7, 4, 6, 8, 2, 5, 3]\n",
            "[1, 7, 5, 8, 2, 4, 6, 3]\n",
            "[2, 4, 6, 8, 3, 1, 7, 5]\n",
            "[2, 5, 7, 1, 3, 8, 6, 4]\n",
            "[2, 5, 7, 4, 1, 8, 6, 3]\n",
            "[2, 6, 1, 7, 4, 8, 3, 5]\n",
            "[2, 6, 8, 3, 1, 4, 7, 5]\n",
            "[2, 7, 3, 6, 8, 5, 1, 4]\n",
            "[2, 7, 5, 8, 1, 4, 6, 3]\n",
            "[2, 8, 6, 1, 3, 5, 7, 4]\n",
            "[3, 1, 7, 5, 8, 2, 4, 6]\n",
            "[3, 5, 2, 8, 1, 7, 4, 6]\n",
            "[3, 5, 2, 8, 6, 4, 7, 1]\n",
            "[3, 5, 7, 1, 4, 2, 8, 6]\n",
            "[3, 5, 8, 4, 1, 7, 2, 6]\n",
            "[3, 6, 2, 5, 8, 1, 7, 4]\n",
            "[3, 6, 2, 7, 1, 4, 8, 5]\n",
            "[3, 6, 2, 7, 5, 1, 8, 4]\n",
            "[3, 6, 4, 1, 8, 5, 7, 2]\n",
            "[3, 6, 4, 2, 8, 5, 7, 1]\n",
            "[3, 6, 8, 1, 4, 7, 5, 2]\n",
            "[3, 6, 8, 1, 5, 7, 2, 4]\n",
            "[3, 6, 8, 2, 4, 1, 7, 5]\n",
            "[3, 7, 2, 8, 5, 1, 4, 6]\n",
            "[3, 7, 2, 8, 6, 4, 1, 5]\n",
            "[3, 8, 4, 7, 1, 6, 2, 5]\n",
            "[4, 1, 5, 8, 2, 7, 3, 6]\n",
            "[4, 1, 5, 8, 6, 3, 7, 2]\n",
            "[4, 2, 5, 8, 6, 1, 3, 7]\n",
            "[4, 2, 7, 3, 6, 8, 1, 5]\n",
            "[4, 2, 7, 3, 6, 8, 5, 1]\n",
            "[4, 2, 7, 5, 1, 8, 6, 3]\n",
            "[4, 2, 8, 5, 7, 1, 3, 6]\n",
            "[4, 2, 8, 6, 1, 3, 5, 7]\n",
            "[4, 6, 1, 5, 2, 8, 3, 7]\n",
            "[4, 6, 8, 2, 7, 1, 3, 5]\n",
            "[4, 6, 8, 3, 1, 7, 5, 2]\n",
            "[4, 7, 1, 8, 5, 2, 6, 3]\n",
            "[4, 7, 3, 8, 2, 5, 1, 6]\n",
            "[4, 7, 5, 2, 6, 1, 3, 8]\n",
            "[4, 7, 5, 3, 1, 6, 8, 2]\n",
            "[4, 8, 1, 3, 6, 2, 7, 5]\n",
            "[4, 8, 1, 5, 7, 2, 6, 3]\n",
            "[4, 8, 5, 3, 1, 7, 2, 6]\n",
            "[5, 1, 4, 6, 8, 2, 7, 3]\n",
            "[5, 1, 8, 4, 2, 7, 3, 6]\n",
            "[5, 1, 8, 6, 3, 7, 2, 4]\n",
            "[5, 2, 4, 6, 8, 3, 1, 7]\n",
            "[5, 2, 4, 7, 3, 8, 6, 1]\n",
            "[5, 2, 6, 1, 7, 4, 8, 3]\n",
            "[5, 2, 8, 1, 4, 7, 3, 6]\n",
            "[5, 3, 1, 6, 8, 2, 4, 7]\n",
            "[5, 3, 1, 7, 2, 8, 6, 4]\n",
            "[5, 3, 8, 4, 7, 1, 6, 2]\n",
            "[5, 7, 1, 3, 8, 6, 4, 2]\n",
            "[5, 7, 1, 4, 2, 8, 6, 3]\n",
            "[5, 7, 2, 4, 8, 1, 3, 6]\n",
            "[5, 7, 2, 6, 3, 1, 4, 8]\n",
            "[5, 7, 2, 6, 3, 1, 8, 4]\n",
            "[5, 7, 4, 1, 3, 8, 6, 2]\n",
            "[5, 8, 4, 1, 3, 6, 2, 7]\n",
            "[5, 8, 4, 1, 7, 2, 6, 3]\n",
            "[6, 1, 5, 2, 8, 3, 7, 4]\n",
            "[6, 2, 7, 1, 3, 5, 8, 4]\n",
            "[6, 2, 7, 1, 4, 8, 5, 3]\n",
            "[6, 3, 1, 7, 5, 8, 2, 4]\n",
            "[6, 3, 1, 8, 4, 2, 7, 5]\n",
            "[6, 3, 1, 8, 5, 2, 4, 7]\n",
            "[6, 3, 5, 7, 1, 4, 2, 8]\n",
            "[6, 3, 5, 8, 1, 4, 2, 7]\n",
            "[6, 3, 7, 2, 4, 8, 1, 5]\n",
            "[6, 3, 7, 2, 8, 5, 1, 4]\n",
            "[6, 3, 7, 4, 1, 8, 2, 5]\n",
            "[6, 4, 1, 5, 8, 2, 7, 3]\n",
            "[6, 4, 2, 8, 5, 7, 1, 3]\n",
            "[6, 4, 7, 1, 3, 5, 2, 8]\n",
            "[6, 4, 7, 1, 8, 2, 5, 3]\n",
            "[6, 8, 2, 4, 1, 7, 5, 3]\n",
            "[7, 1, 3, 8, 6, 4, 2, 5]\n",
            "[7, 2, 4, 1, 8, 5, 3, 6]\n",
            "[7, 2, 6, 3, 1, 4, 8, 5]\n",
            "[7, 3, 1, 6, 8, 5, 2, 4]\n",
            "[7, 3, 8, 2, 5, 1, 6, 4]\n",
            "[7, 4, 2, 5, 8, 1, 3, 6]\n",
            "[7, 4, 2, 8, 6, 1, 3, 5]\n",
            "[7, 5, 3, 1, 6, 8, 2, 4]\n",
            "[8, 2, 4, 1, 7, 5, 3, 6]\n",
            "[8, 2, 5, 3, 1, 7, 4, 6]\n",
            "[8, 3, 1, 6, 2, 5, 7, 4]\n",
            "[8, 4, 1, 3, 6, 2, 7, 5]\n"
          ]
        }
      ],
      "source": [
        "def es_prometedora(SOLUCION, etapa):\n",
        "  '''\n",
        "  Verifica que en la solución parcial no hay amenzas entre reinas\n",
        "  '''\n",
        "  #Si la solución tiene dos valores iguales no es valida => Dos reinas en la misma fila\n",
        "  for i in range(etapa+1):\n",
        "    if SOLUCION.count(SOLUCION[i]) > 1:\n",
        "      return False\n",
        "\n",
        "    #Verifica las diagonales\n",
        "    for j in range(i+1, etapa +1):\n",
        "      if abs(i-j) == abs(SOLUCION[i]-SOLUCION[j]) : return False\n",
        "  return True\n",
        "\n",
        "def reinas(N, solucion=[], etapa=0):\n",
        "  '''\n",
        "  Proceso principal de N-reinas\n",
        "  '''\n",
        "  if len(solucion) == 0:         # [0,0,0...]\n",
        "    solucion = [0 for i in range(N) ]\n",
        "\n",
        "  for i in range(1, N+1):\n",
        "    solucion[etapa] = i\n",
        "    if es_prometedora(solucion, etapa):\n",
        "      if etapa == N-1:\n",
        "        print(solucion)\n",
        "      else:\n",
        "        reinas(N, solucion, etapa+1)\n",
        "    else:\n",
        "      None\n",
        "\n",
        "  solucion[etapa] = 0\n",
        "\n",
        "reinas(8, solucion=[], etapa=0)"
      ]
    },
    {
      "cell_type": "code",
      "execution_count": 4,
      "metadata": {
        "colab": {
          "base_uri": "https://localhost:8080/"
        },
        "id": "ueDTCAtokyr_",
        "outputId": "4772029f-25d6-431b-e8d4-aff8526f0b3c"
      },
      "outputs": [
        {
          "name": "stdout",
          "output_type": "stream",
          "text": [
            "\n",
            " X  -  -  -  -  -  -  - \n",
            " -  -  -  -  -  -  X  - \n",
            " -  -  -  -  X  -  -  - \n",
            " -  -  -  -  -  -  -  X \n",
            " -  X  -  -  -  -  -  - \n",
            " -  -  -  X  -  -  -  - \n",
            " -  -  -  -  -  X  -  - \n",
            " -  -  X  -  -  -  -  - "
          ]
        }
      ],
      "source": [
        "def escribe_solucion(S):\n",
        "  '''\n",
        "  Traduce la solución al tablero\n",
        "  '''\n",
        "  n = len(S)\n",
        "  for x in range(n):\n",
        "    print(\"\")\n",
        "    for i in range(n):\n",
        "      if S[i] == x+1:\n",
        "        print(\" X \" , end=\"\")\n",
        "      else:\n",
        "        print(\" - \", end=\"\")\n",
        "        \n",
        "\n",
        "escribe_solucion([1, 5, 8, 6, 3, 7, 2, 4])"
      ]
    },
    {
      "cell_type": "markdown",
      "metadata": {},
      "source": [
        "### **Viaje por el rio - Programación dinámica**"
      ]
    },
    {
      "cell_type": "code",
      "execution_count": 5,
      "metadata": {
        "id": "nRvmMkJfmPC-"
      },
      "outputs": [
        {
          "name": "stdout",
          "output_type": "stream",
          "text": [
            "PRECIOS\n",
            "[0, 5, 4, 3, 8, 8, 11]\n",
            "[9999, 0, 999, 2, 3, 8, 7]\n",
            "[9999, 9999, 0, 1, 6, 4, 7]\n",
            "[9999, 9999, 9999, 0, 5, 6, 9]\n",
            "[9999, 9999, 9999, 9999, 0, 999, 4]\n",
            "[9999, 9999, 9999, 9999, 9999, 0, 3]\n",
            "[9999, 9999, 9999, 9999, 9999, 9999, 9999]\n",
            "\n",
            "RUTA\n",
            "[0, 0, 0, 0, 1, 2, 5]\n",
            "['', 1, 1, 1, 1, 3, 4]\n",
            "['', '', 2, 2, 3, 2, 5]\n",
            "['', '', '', 3, 3, 3, 3]\n",
            "['', '', '', '', 4, 4, 4]\n",
            "['', '', '', '', '', 5, 5]\n",
            "['', '', '', '', '', '', '']\n",
            "\n",
            "La ruta es:\n"
          ]
        },
        {
          "data": {
            "text/plain": [
              "',0,2,5'"
            ]
          },
          "execution_count": 5,
          "metadata": {},
          "output_type": "execute_result"
        }
      ],
      "source": [
        "TARIFAS = [\n",
        "[0, 5, 4, 3, 999, 999, 999],\n",
        "[999, 0, 999, 2, 3, 999, 11],\n",
        "[999, 999, 0, 1, 999, 4, 10],\n",
        "[999, 999, 999, 0, 5, 6, 9],\n",
        "[999, 999, 999, 999, 0, 999, 4],\n",
        "[999, 999, 999, 999, 999, 0, 3],\n",
        "[999, 999, 999, 999, 999, 999, 0]\n",
        "]\n",
        "\n",
        "#999 se puede sustituir por float(\"inf\")\n",
        "\n",
        "\n",
        "#Calculo de la matriz de PRECIOS y RUTAS\n",
        "################################################################\n",
        "def Precios(TARIFAS):\n",
        "################################################################\n",
        "  #Total de Nodos\n",
        "  N = len(TARIFAS[0])\n",
        "\n",
        "  #Inicialización de la tabla de precios\n",
        "  PRECIOS = [ [9999]*N for i in [9999]*N]\n",
        "  RUTA = [ [\"\"]*N for i in [\"\"]*N]\n",
        "\n",
        "  for i in range(0,N-1):\n",
        "    RUTA[i][i] = i             #Para ir de i a i se \"pasa por i\"\n",
        "    PRECIOS[i][i] = 0          #Para ir de i a i se se paga 0\n",
        "    for j in range(i+1, N):\n",
        "      MIN = TARIFAS[i][j]\n",
        "      RUTA[i][j] = i\n",
        "\n",
        "      for k in range(i, j):\n",
        "        if PRECIOS[i][k] + TARIFAS[k][j] < MIN:\n",
        "            MIN = min(MIN, PRECIOS[i][k] + TARIFAS[k][j] )\n",
        "            RUTA[i][j] = k          #Anota que para ir de i a j hay que pasar por k\n",
        "        PRECIOS[i][j] = MIN\n",
        "\n",
        "  return PRECIOS,RUTA\n",
        "################################################################\n",
        "\n",
        "PRECIOS,RUTA = Precios(TARIFAS)\n",
        "#print(PRECIOS[0][6])\n",
        "\n",
        "print(\"PRECIOS\")\n",
        "for i in range(len(TARIFAS)):\n",
        "  print(PRECIOS[i])\n",
        "\n",
        "print(\"\\nRUTA\")\n",
        "for i in range(len(TARIFAS)):\n",
        "  print(RUTA[i])\n",
        "\n",
        "#Determinar la ruta con Recursividad\n",
        "def calcular_ruta(RUTA, desde, hasta):\n",
        "  if desde == hasta:\n",
        "    #print(\"Ir a :\" + str(desde))\n",
        "    return \"\"\n",
        "  else:\n",
        "    return str(calcular_ruta( RUTA, desde, RUTA[desde][hasta])) +  \\\n",
        "                ',' + \\\n",
        "                str(RUTA[desde][hasta] \\\n",
        "              )\n",
        "\n",
        "print(\"\\nLa ruta es:\")\n",
        "calcular_ruta(RUTA, 0,6)"
      ]
    },
    {
      "cell_type": "markdown",
      "metadata": {},
      "source": [
        "### **Extra**"
      ]
    },
    {
      "cell_type": "code",
      "execution_count": 8,
      "metadata": {},
      "outputs": [],
      "source": [
        "import numpy as np"
      ]
    },
    {
      "cell_type": "code",
      "execution_count": 92,
      "metadata": {},
      "outputs": [
        {
          "name": "stdout",
          "output_type": "stream",
          "text": [
            "Existen 2 puntos coincidentes en 7052. Han sido necesarias 2849 operaciones.\n"
          ]
        }
      ],
      "source": [
        "points_1D = np.random.randint(0, 10001, 100)\n",
        "# print(points_1D)\n",
        "\n",
        "def points_cercanos_1D_fuerza_bruta(points):\n",
        "    count = 0\n",
        "    result = [points[0], points[1], int(points[0] - points[1])]\n",
        "    for i in range(len(points)):\n",
        "        for j in range(i + 1, len(points)):\n",
        "            distance = abs(points[i] - points[j])\n",
        "            count += 1\n",
        "            if distance == 0:\n",
        "                # En caso de dos valores iguales, rompe bucle y devuelve el primer par\n",
        "                result[0] = points[i]\n",
        "                result[1] = points[j]\n",
        "                result[2] = distance\n",
        "                return print(f'Existen 2 puntos coincidentes en {result[0]}. Han sido necesarias {count} operaciones.')\n",
        "            \n",
        "            elif distance < abs(result[0] - result[1]):\n",
        "                result[0] = points[i]\n",
        "                result[1] = points[j]\n",
        "                result[2] = distance\n",
        "\n",
        "    return print(f'Los puntos en {result[0]} y {result[1]}, son los más cercanos entre sí con una distancia de {result[2]} unidades lineales. Han sido necesarias {count} operaciones.')\n",
        "\n",
        "points_cercanos_1D_fuerza_bruta(points_1D)"
      ]
    },
    {
      "cell_type": "code",
      "execution_count": 146,
      "metadata": {},
      "outputs": [
        {
          "name": "stdout",
          "output_type": "stream",
          "text": [
            "[array([4411,  836]), array([1028, 8872]), 8719.058722132797]\n"
          ]
        },
        {
          "data": {
            "image/png": "[encoded data removed]",
            "text/plain": [
              "<Figure size 640x480 with 1 Axes>"
            ]
          },
          "metadata": {},
          "output_type": "display_data"
        },
        {
          "name": "stdout",
          "output_type": "stream",
          "text": [
            "\n",
            "    Los puntos en (7134, 8999) y (7243, 8953), son los más cercanos entre sí con una distancia de 118.309 unidades lineales. \n",
            "    Han sido necesarias 4950 operaciones.\n",
            "    \n"
          ]
        }
      ],
      "source": [
        "import matplotlib.pyplot as plt\n",
        "\n",
        "points_2D = np.random.randint(0, 10001, size=(100, 2))\n",
        "#print(points_2D)\n",
        "\n",
        "def distance_2D(point_1, point_2):\n",
        "    x1, y1 = point_1\n",
        "    x2, y2 = point_2\n",
        "    \n",
        "    return (((x1 - x2)**2) + (y1 - y2)**2)**0.5\n",
        "\n",
        "\n",
        "def points_cercanos_2D_fuerza_bruta(points):\n",
        "    count = 0\n",
        "    result = [points[0], points[1], distance_2D(points[0] , points[1])]\n",
        "    print(result)\n",
        "    for i in range(len(points)):\n",
        "        for j in range(i + 1, len(points)):\n",
        "            distance = distance_2D(points[i], points[j])\n",
        "            count += 1\n",
        "            if distance == 0:\n",
        "                # En caso de dos valores iguales, rompe bucle y devuelve el primer par\n",
        "                result[0] = points[i]\n",
        "                result[1] = points[j]\n",
        "                result[2] = distance\n",
        "                return print(f'Existen 2 puntos coincidentes en {result[0]}. Han sido necesarias {count} operaciones.')\n",
        "            \n",
        "            elif distance < distance_2D(result[0], result[1]):\n",
        "                result[0] = points[i]\n",
        "                result[1] = points[j]\n",
        "                result[2] = distance\n",
        "                \n",
        "    x, y = zip(*points_2D)\n",
        "\n",
        "    plt.scatter(x, y)\n",
        "    plt.scatter(result[0][0], result[0][1], color = 'red')\n",
        "    plt.scatter(result[1][0], result[1][1], color = 'red')\n",
        "    plt.show()\n",
        "\n",
        "    return print(f'''\n",
        "    Los puntos en ({result[0][0]}, {result[0][1]}) y ({result[1][0]}, {result[1][1]}), son los más cercanos entre sí con una distancia de {round(result[2], 3)} unidades lineales. \n",
        "    Han sido necesarias {count} operaciones.\n",
        "    ''')\n",
        "\n",
        "points_cercanos_2D_fuerza_bruta(points_2D)\n",
        "\n"
      ]
    },
    {
      "cell_type": "code",
      "execution_count": 145,
      "metadata": {},
      "outputs": [
        {
          "name": "stdout",
          "output_type": "stream",
          "text": [
            "[array([2106, 8798, 1097]), array([4566, 9418, 7548]), 6931.911785359072]\n",
            "\n",
            "    Los puntos en (2101, 4235, 1732) y (2215, 4217, 1820), son los más cercanos entre sí con una distancia de 145.134 unidades lineales. \n",
            "    Han sido necesarias 19900 operaciones.\n",
            "    \n"
          ]
        }
      ],
      "source": [
        "points_3D = np.random.randint(0, 10001, size=(200, 3))\n",
        "#print(points_3D)\n",
        "\n",
        "def distance_3D(point_1, point_2):\n",
        "    x1, y1, z1 = point_1\n",
        "    x2, y2, z2 = point_2\n",
        "    \n",
        "    return (((x1 - x2)**2) + (y1 - y2)**2 + (z1 - z2)**2)**0.5\n",
        "\n",
        "\n",
        "def points_cercanos_3D_fuerza_bruta(points):\n",
        "    count = 0\n",
        "    result = [points[0], points[1], distance_3D(points[0] , points[1])]\n",
        "    print(result)\n",
        "    for i in range(len(points)):\n",
        "        for j in range(i + 1, len(points)):\n",
        "            distance = distance_3D(points[i], points[j])\n",
        "            count += 1\n",
        "            if distance == 0:\n",
        "                # En caso de dos valores iguales, rompe bucle y devuelve el primer par\n",
        "                result[0] = points[i]\n",
        "                result[1] = points[j]\n",
        "                result[2] = distance\n",
        "                return print(f'Existen 2 puntos coincidentes en {result[0]}. Han sido necesarias {count} operaciones.')\n",
        "            \n",
        "            elif distance < distance_3D(result[0], result[1]):\n",
        "                result[0] = points[i]\n",
        "                result[1] = points[j]\n",
        "                result[2] = distance\n",
        "\n",
        "    return print(f'''\n",
        "    Los puntos en ({result[0][0]}, {result[0][1]}, {result[0][2]}) y ({result[1][0]}, {result[1][1]}, {result[1][2]}), son los más cercanos entre sí con una distancia de {round(result[2], 3)} unidades lineales. \n",
        "    Han sido necesarias {count} operaciones.\n",
        "    ''')\n",
        "\n",
        "points_cercanos_3D_fuerza_bruta(points_3D)"
      ]
    }
  ],
  "metadata": {
    "colab": {
      "provenance": []
    },
    "kernelspec": {
      "display_name": "Python 3",
      "name": "python3"
    },
    "language_info": {
      "codemirror_mode": {
        "name": "ipython",
        "version": 3
      },
      "file_extension": ".py",
      "mimetype": "text/x-python",
      "name": "python",
      "nbconvert_exporter": "python",
      "pygments_lexer": "ipython3",
      "version": "3.11.1"
    }
  },
  "nbformat": 4,
  "nbformat_minor": 0
}
